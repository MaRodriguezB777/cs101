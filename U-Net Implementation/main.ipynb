{
 "cells": [
  {
   "cell_type": "code",
   "execution_count": 1,
   "metadata": {},
   "outputs": [],
   "source": [
    "# Based on proposed model from https://arxiv.org/pdf/1505.04597.pdf\n",
    "\n",
    "import torch\n",
    "import torch.nn as nn\n",
    "import torch.nn.functional as F\n",
    "import torch.optim as optim\n",
    "import torchvision.transforms as transforms\n",
    "from unet import UNet\n",
    "# from data_util import *\n",
    "from torch.utils.tensorboard.writer import SummaryWriter\n",
    "\n",
    "\n",
    "# Device configuration\n",
    "device = torch.device('cuda:0' if torch.cuda.is_available() else 'cpu')"
   ]
  },
  {
   "cell_type": "code",
   "execution_count": 2,
   "metadata": {},
   "outputs": [],
   "source": [
    "# Data preprocessing\n",
    "# Want to take in a 3 channel H x W image in a batch of N\n",
    "\n"
   ]
  },
  {
   "cell_type": "code",
   "execution_count": 3,
   "metadata": {},
   "outputs": [],
   "source": [
    "# Training hyperparameters\n",
    "num_epochs = 100\n",
    "batch_size = 4\n",
    "learning_rate = 0.001\n",
    "depth = 3\n",
    "initial_channel_size = 64\n",
    "channel_multiplier = 2\n",
    "dropout = 0.5\n",
    "pool_kernel_size = 2\n",
    "pool_stride = 2\n",
    "double_conv_kernel_size = 3\n",
    "up_conv_kernel_size = 2\n",
    "up_conv_stride = 2\n",
    "\n",
    "# Save model\n",
    "writer = SummaryWriter(\"loss_plots\")\n",
    "step = 0\n",
    "save_model = True\n",
    "load_model = False\n",
    "save_epoch = 10"
   ]
  },
  {
   "cell_type": "code",
   "execution_count": 6,
   "metadata": {},
   "outputs": [
    {
     "name": "stdout",
     "output_type": "stream",
     "text": [
      "------------------ Original Image ------------------\n",
      "torch.Size([1, 1, 572, 572])\n",
      "----------------- Downsampling -----------------\n",
      "torch.Size([1, 64, 284, 284])\n",
      "torch.Size([1, 128, 140, 140])\n",
      "torch.Size([1, 256, 68, 68])\n",
      "torch.Size([1, 512, 32, 32])\n",
      "----------------- Bottom of U-Net -----------------\n",
      "torch.Size([1, 1024, 28, 28])\n",
      "----------------- Upsampling -----------------\n",
      "torch.Size([1, 1024, 28, 28])\n",
      "torch.Size([1, 512, 52, 52])\n",
      "torch.Size([1, 256, 100, 100])\n",
      "torch.Size([1, 128, 196, 196])\n",
      "torch.Size([1, 64, 388, 388])\n",
      "----------------- Final Mask -----------------\n",
      "torch.Size([1, 2, 388, 388])\n"
     ]
    }
   ],
   "source": [
    "image_size = 572\n",
    "image = torch.rand((1, 1, image_size, image_size)).to(device)\n",
    "model = UNet(\n",
    "    depth=depth,\n",
    "    initial_channel_size=initial_channel_size,\n",
    "    channel_multiplier=channel_multiplier,\n",
    "    dropout=dropout,\n",
    "    pool_kernel=pool_kernel_size,\n",
    "    pool_stride=pool_stride,\n",
    "    double_conv_kernel=double_conv_kernel_size,\n",
    "    up_conv_kernel=up_conv_kernel_size,\n",
    "    up_conv_stride=up_conv_stride\n",
    ").to(device)\n",
    "print('------------------ Original Image ------------------')\n",
    "print(image.shape)\n",
    "mask = model(image)"
   ]
  },
  {
   "cell_type": "code",
   "execution_count": null,
   "metadata": {},
   "outputs": [],
   "source": [
    "# Training Model\n",
    "# Loss and optimizer\n",
    "criterion = nn.CrossEntropyLoss()\n",
    "optimizer = optim.Adam(model.parameters(), lr=learning_rate)\n",
    "\n",
    "if load_model:\n",
    "    load_checkpoint(torch.load(\"my_checkpoint.pth.tar\"))\n",
    "    \n",
    "# Train the model\n",
    "for epoch in range(num_epochs):\n",
    "    print(f\"[Epoch {epoch} / {num_epochs}]\")\n",
    "\n",
    "    if epoch % save_epoch == 0:\n",
    "        if save_model:\n",
    "            print(\"=> Saving checkpoint...\")\n",
    "            checkpoint = {\n",
    "                \"state_dict\": model.state_dict(),\n",
    "                \"optimizer\": optimizer.state_dict(),\n",
    "            }\n",
    "\n",
    "            save_checkpoint(checkpoint)\n",
    "\n",
    "    model.train()\n",
    "    for batch_idx, (batch_src, batch_trg) in enumerate(train_loader):\n",
    "        output = model(batch_src)\n",
    "\n",
    "\n",
    "        optimizer.zero_grad()\n",
    "        loss = criterion(output, batch_trg)\n",
    "        loss.backward()\n",
    "\n",
    "        torch.nn.utils.clip_grad_norm_(model.parameters(), max_norm=1)\n",
    "\n",
    "        optimizer.step()\n",
    "\n",
    "        writer.add_scalar(\"Training loss\", loss, global_step=step)\n",
    "\n",
    "    step += 1\n",
    "    model.eval()\n",
    "\n",
    "    # Choose one image with its mask at random in each epoch to visualize the training process"
   ]
  }
 ],
 "metadata": {
  "kernelspec": {
   "display_name": "Python 3",
   "language": "python",
   "name": "python3"
  },
  "language_info": {
   "codemirror_mode": {
    "name": "ipython",
    "version": 3
   },
   "file_extension": ".py",
   "mimetype": "text/x-python",
   "name": "python",
   "nbconvert_exporter": "python",
   "pygments_lexer": "ipython3",
   "version": "3.10.7"
  }
 },
 "nbformat": 4,
 "nbformat_minor": 2
}
